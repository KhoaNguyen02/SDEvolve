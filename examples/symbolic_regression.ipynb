{
 "cells": [
  {
   "cell_type": "code",
   "execution_count": 1,
   "metadata": {},
   "outputs": [
    {
     "name": "stdout",
     "output_type": "stream",
     "text": [
      "These device(s) are detected:  [CpuDevice(id=0), CpuDevice(id=1), CpuDevice(id=2), CpuDevice(id=3), CpuDevice(id=4), CpuDevice(id=5), CpuDevice(id=6), CpuDevice(id=7), CpuDevice(id=8), CpuDevice(id=9)]\n"
     ]
    }
   ],
   "source": [
    "# Specify the cores to use for XLA\n",
    "import os\n",
    "os.environ[\"XLA_FLAGS\"] = '--xla_force_host_platform_device_count=10'\n",
    "\n",
    "import jax\n",
    "import diffrax\n",
    "import jax.numpy as jnp\n",
    "import jax.random as jr\n",
    "import diffrax\n",
    "import sys\n",
    "sys.path.append(\"/Users/sigur.de.vries/Library/Mobile Documents/com~apple~CloudDocs/phd/kozax\")\n",
    "\n",
    "from kozax.genetic_programming import GeneticProgramming\n",
    "from kozax.fitness_functions.ODE_fitness_function import ODEFitnessFunction\n",
    "from kozax.environments.SR_environments.lotka_volterra import LotkaVolterra"
   ]
  },
  {
   "cell_type": "code",
   "execution_count": 2,
   "metadata": {},
   "outputs": [],
   "source": [
    "def get_data(key, env, dt, T, batch_size=20):\n",
    "    x0s = env.sample_init_states(batch_size, key)\n",
    "    ts = jnp.arange(0, T, dt)\n",
    "\n",
    "    def solve(env, ts, x0):\n",
    "        solver = diffrax.Dopri5()\n",
    "        dt0 = 0.001\n",
    "        saveat = diffrax.SaveAt(ts=ts)\n",
    "\n",
    "        system = diffrax.ODETerm(env.drift)\n",
    "\n",
    "        sol = diffrax.diffeqsolve(system, solver, ts[0], ts[-1], dt0, x0, saveat=saveat, max_steps=500, \n",
    "                                  adjoint=diffrax.DirectAdjoint(), stepsize_controller=diffrax.PIDController(atol=1e-7, rtol=1e-7, dtmin=0.001))\n",
    "        \n",
    "        return sol.ys\n",
    "\n",
    "    ys = jax.vmap(solve, in_axes=[None, None, 0])(env, ts, x0s)\n",
    "    \n",
    "    return x0s, ts, ys"
   ]
  },
  {
   "cell_type": "code",
   "execution_count": null,
   "metadata": {},
   "outputs": [
    {
     "name": "stdout",
     "output_type": "stream",
     "text": [
      "Input data should be formatted as: ['x0', 'x1'].\n",
      "In generation 1, best fitness = 1.7050, best solution = [-1.39*x0, 0.616 - 0.426*x1]\n",
      "In generation 2, best fitness = 1.6697, best solution = [1.56 - 2.3*x0, 0.46 - 0.379*x1]\n",
      "In generation 3, best fitness = 1.6618, best solution = [0.224 - 2.43*x0, x0 - 0.56*x1 + 0.743]\n",
      "In generation 4, best fitness = 1.6595, best solution = [-0.121*x0*x1**2 + 0.248, 0.541*x0 - 0.336*x1]\n",
      "In generation 5, best fitness = 1.6582, best solution = [0.903 - 1.97*x0, 1.31*x0 - 0.581*x1]\n",
      "In generation 6, best fitness = 1.6491, best solution = [1.0 - 2.52*x0, x0 - 0.562*x1 + 0.36]\n",
      "In generation 7, best fitness = 1.6483, best solution = [0.901 - 2.34*x0, x0 - 0.549*x1 + 0.389]\n",
      "In generation 8, best fitness = 1.6245, best solution = [-0.352*x0*(2*x0 + x1 - 0.115) + x0, x0 - 0.359*x1]\n",
      "In generation 9, best fitness = 1.6244, best solution = [-0.4*x0*(2*x0 + x1 - 0.382) + x0, x0 - 0.351*x1]\n",
      "In generation 10, best fitness = 1.6244, best solution = [-0.4*x0*(2*x0 + x1 - 0.382) + x0, x0 - 0.351*x1]\n",
      "In generation 11, best fitness = 1.6205, best solution = [-0.252*x0**3*(x1 - 2.25), x0*x1 - x1 + 0.183]\n",
      "In generation 12, best fitness = 1.6166, best solution = [-0.295*x0**3*(x1 - 2.01), x0*x1 - x1 + 0.162]\n",
      "In generation 13, best fitness = 1.5960, best solution = [(2.32 - x1)*(x0 - 0.231), x0 - 0.409*x1]\n",
      "In generation 14, best fitness = 1.5960, best solution = [(2.32 - x1)*(x0 - 0.231), x0 - 0.409*x1]\n",
      "In generation 15, best fitness = 1.5900, best solution = [(2.23 - x1)*(x0 - 0.0124), x0 - 0.372*x1]\n",
      "In generation 16, best fitness = 1.5853, best solution = [-1.67*x0*(0.283*x1 - 0.626), x0 - 0.393*x1]\n",
      "In generation 17, best fitness = 1.5819, best solution = [x0*(2.34 - x1), x0 - 0.349*x1]\n",
      "In generation 18, best fitness = 1.5819, best solution = [x0*(2.34 - x1), x0 - 0.349*x1]\n",
      "In generation 19, best fitness = 1.5785, best solution = [(2.35 - x1)*(x0 - 0.0713), x0 - 0.362*x1]\n",
      "In generation 20, best fitness = 1.5785, best solution = [(2.35 - x1)*(x0 - 0.0713), x0 - 0.362*x1]\n",
      "In generation 21, best fitness = 1.5773, best solution = [x0*(1.41 - 0.605*x1), x0 - 0.315*x1 - 0.177]\n",
      "In generation 22, best fitness = 1.5763, best solution = [x0*(1.14 - 0.506*x1), x0 - 0.313*x1 - 0.234]\n",
      "In generation 23, best fitness = 1.5763, best solution = [x0*(1.14 - 0.506*x1), x0 - 0.313*x1 - 0.234]\n"
     ]
    }
   ],
   "source": [
    "key = jr.PRNGKey(0)\n",
    "data_key, gp_key = jr.split(key)\n",
    "\n",
    "T = 50\n",
    "dt = 0.2\n",
    "env = LotkaVolterra()\n",
    "\n",
    "operator_list = [\n",
    "        (\"+\", lambda x, y: jnp.add(x, y), 2, 0.5), \n",
    "        (\"-\", lambda x, y: jnp.subtract(x, y), 2, 0.1), \n",
    "        (\"*\", lambda x, y: jnp.multiply(x, y), 2, 0.5), \n",
    "    ]\n",
    "\n",
    "variable_list = [[\"x\" + str(i) for i in range(env.n_var)]]\n",
    "\n",
    "population_size = 300\n",
    "num_populations = 10\n",
    "num_generations = 50\n",
    "\n",
    "fitness_function = ODEFitnessFunction(solver=diffrax.Dopri5(), dt0 = 0.01, stepsize_controller=diffrax.PIDController(atol=1e-6, rtol=1e-6, dtmin=0.001), max_steps=300)\n",
    "\n",
    "layer_sizes = jnp.array([env.n_var])\n",
    "\n",
    "strategy = GeneticProgramming(num_generations, population_size, fitness_function, operator_list, variable_list, layer_sizes, num_populations = num_populations,\n",
    "                        max_nodes = 15, constant_optimization_method=\"evolution\", constant_optimization_N_offspring = 50, constant_optimization_steps = 1, size_parsimony=0.003, \n",
    "                        optimize_constants_elite=250, constant_step_size_init=0.2)\n",
    "\n",
    "data = get_data(data_key, env, dt, T, batch_size=4)\n",
    "\n",
    "strategy.fit(gp_key, data, verbose=True)"
   ]
  }
 ],
 "metadata": {
  "kernelspec": {
   "display_name": "Python 3",
   "language": "python",
   "name": "python3"
  },
  "language_info": {
   "codemirror_mode": {
    "name": "ipython",
    "version": 3
   },
   "file_extension": ".py",
   "mimetype": "text/x-python",
   "name": "python",
   "nbconvert_exporter": "python",
   "pygments_lexer": "ipython3",
   "version": "3.11.4"
  },
  "orig_nbformat": 4
 },
 "nbformat": 4,
 "nbformat_minor": 2
}
