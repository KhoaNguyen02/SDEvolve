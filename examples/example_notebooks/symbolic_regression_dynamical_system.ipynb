{
 "cells": [
  {
   "cell_type": "markdown",
   "metadata": {},
   "source": [
    "# Symbolic regression of a dynamical system\n",
    "\n",
    "In this example, Kozax is applied to recover the state equations of the Lotka-Volterra system. The candidate solutions are integrated as a system of differential equations, after which the predictions are compared to the true observations to determine a fitness score."
   ]
  },
  {
   "cell_type": "code",
   "execution_count": 1,
   "metadata": {},
   "outputs": [
    {
     "name": "stdout",
     "output_type": "stream",
     "text": [
      "These device(s) are detected:  [CpuDevice(id=0), CpuDevice(id=1), CpuDevice(id=2), CpuDevice(id=3), CpuDevice(id=4), CpuDevice(id=5), CpuDevice(id=6), CpuDevice(id=7), CpuDevice(id=8), CpuDevice(id=9)]\n"
     ]
    }
   ],
   "source": [
    "# Specify the cores to use for XLA\n",
    "import os\n",
    "os.environ[\"XLA_FLAGS\"] = '--xla_force_host_platform_device_count=10'\n",
    "\n",
    "import jax\n",
    "import diffrax\n",
    "import jax.numpy as jnp\n",
    "import jax.random as jr\n",
    "import diffrax\n",
    "\n",
    "from kozax.genetic_programming import GeneticProgramming\n",
    "from kozax.fitness_functions.ODE_fitness_function import ODEFitnessFunction\n",
    "from kozax.environments.SR_environments.lotka_volterra import LotkaVolterra"
   ]
  },
  {
   "cell_type": "markdown",
   "metadata": {},
   "source": [
    "First the data is generated, consisting of initial conditions, time points and the true observations. Kozax provides the Lotka-Volterra environment, which is integrated with Diffrax."
   ]
  },
  {
   "cell_type": "code",
   "execution_count": 2,
   "metadata": {},
   "outputs": [],
   "source": [
    "def get_data(key, env, dt, T, batch_size=20):\n",
    "    x0s = env.sample_init_states(batch_size, key)\n",
    "    ts = jnp.arange(0, T, dt)\n",
    "\n",
    "    solver = diffrax.Dopri5()\n",
    "    dt0 = 0.001\n",
    "    saveat = diffrax.SaveAt(ts=ts)\n",
    "\n",
    "    system = diffrax.ODETerm(env.drift)\n",
    "\n",
    "    def solve(ts, x0):\n",
    "        # Solve the system given an initial conditions\n",
    "        sol = diffrax.diffeqsolve(system, solver, ts[0], ts[-1], dt0, x0, saveat=saveat, max_steps=500, \n",
    "                                  adjoint=diffrax.DirectAdjoint(), stepsize_controller=diffrax.PIDController(atol=1e-7, rtol=1e-7, dtmin=0.001), args=jnp.array([0.0]))\n",
    "        \n",
    "        return sol.ys\n",
    "\n",
    "    ys = jax.vmap(solve, in_axes=[None, 0])(ts, x0s) #Parallelize over the batch dimension\n",
    "    \n",
    "    return x0s, ts, ys\n",
    "\n",
    "key = jr.PRNGKey(0)\n",
    "data_key, gp_key = jr.split(key)\n",
    "\n",
    "T = 30\n",
    "dt = 0.2\n",
    "env = LotkaVolterra()\n",
    "\n",
    "# Simulate the data\n",
    "data = get_data(data_key, env, dt, T, batch_size=4)\n",
    "x0s, ts, ys = data"
   ]
  },
  {
   "cell_type": "markdown",
   "metadata": {},
   "source": [
    "For the fitness function, we used the ODEFitnessFunction that uses Diffrax to integrate candidate solutions. It is possible to select the solver, time step, number of steps and a stepsize controller to balance efficiency and accuracy. To ensure convergence of the genetic programming algorithm, constant optimization is applied to the best candidates at every generation. The constant optimization is performed with a couple of simple evolutionary steps that adjust the values of the constants in a candidate. The hyperparameters that define the constant optimization are `constant_optimization_N_offspring` (number of candidates with different constants should be sampled for each candidate), `constant_optimization_steps` (number of iterations of constant optimization for each candidate), `optimize_constants_elite` (number of candidates that constant optimization is applied to), `constant_step_size_init` (initial value of the step size for sampling constants) and `constant_step_size_decay` (the rate of decrease of the step size over generations)."
   ]
  },
  {
   "cell_type": "code",
   "execution_count": 3,
   "metadata": {},
   "outputs": [
    {
     "name": "stdout",
     "output_type": "stream",
     "text": [
      "Input data should be formatted as: ['x0', 'x1'].\n"
     ]
    }
   ],
   "source": [
    "#Define the nodes and hyperparameters\n",
    "operator_list = [\n",
    "        (\"+\", lambda x, y: jnp.add(x, y), 2, 0.5), \n",
    "        (\"-\", lambda x, y: jnp.subtract(x, y), 2, 0.1), \n",
    "        (\"*\", lambda x, y: jnp.multiply(x, y), 2, 0.5), \n",
    "    ]\n",
    "\n",
    "variable_list = [[\"x\" + str(i) for i in range(env.n_var)]]\n",
    "layer_sizes = jnp.array([env.n_var])\n",
    "\n",
    "population_size = 100\n",
    "num_populations = 10\n",
    "num_generations = 50\n",
    "\n",
    "#Initialize the fitness function and the genetic programming strategy\n",
    "fitness_function = ODEFitnessFunction(solver=diffrax.Dopri5(), dt0 = 0.01, stepsize_controller=diffrax.PIDController(atol=1e-6, rtol=1e-6, dtmin=0.001), max_steps=300)\n",
    "\n",
    "strategy = GeneticProgramming(num_generations, population_size, fitness_function, operator_list, variable_list, layer_sizes, num_populations = num_populations,\n",
    "                        constant_optimization_method=\"evolution\", constant_optimization_N_offspring = 50, constant_optimization_steps = 3, \n",
    "                        optimize_constants_elite=100, constant_step_size_init=0.1, constant_step_size_decay=0.99)"
   ]
  },
  {
   "cell_type": "code",
   "execution_count": 4,
   "metadata": {},
   "outputs": [
    {
     "name": "stdout",
     "output_type": "stream",
     "text": [
      "Generation: 0\n",
      "Complexity: 2, fitness: 6.447543621063232, equations: [1.53, -0.844]\n",
      "Complexity: 6, fitness: 1.7761852741241455, equations: [-1.19*x0, -1.13*x1]\n",
      "Complexity: 8, fitness: 1.7118381261825562, equations: [-1.67*x0, -0.306*x0*x1]\n",
      "Complexity: 10, fitness: 1.64039945602417, equations: [-x0 - 0.941, x0 - x1 + 1.43]\n",
      "Complexity: 12, fitness: 1.3394683599472046, equations: [1.29 - 2.42*x0, 0.0769 - 0.336*x1]\n",
      "Generation: 5\n",
      "Complexity: 2, fitness: 2.925888776779175, equations: [-0.708, -0.546]\n",
      "Complexity: 4, fitness: 2.0265915393829346, equations: [-0.999*x0, -0.731]\n",
      "Complexity: 6, fitness: 1.4680837392807007, equations: [1.11 - x0, -0.281*x1]\n",
      "Complexity: 8, fitness: 1.3401834964752197, equations: [-x0*x1 + 1.56, -0.289*x1]\n",
      "Complexity: 10, fitness: 1.306777000427246, equations: [-2.15*x0, x0 - 0.412*x1]\n",
      "Complexity: 12, fitness: 1.2634639739990234, equations: [0.87 - 1.69*x0, 0.653*x0 - 0.499*x1]\n",
      "Complexity: 14, fitness: 1.222165822982788, equations: [1.18 - 2.26*x0, x0 - 0.459*x1 - 0.298]\n",
      "Generation: 10\n",
      "Complexity: 2, fitness: 2.8840174674987793, equations: [-0.611, -0.753]\n",
      "Complexity: 4, fitness: 2.0265915393829346, equations: [-0.999*x0, -0.731]\n",
      "Complexity: 6, fitness: 1.4680837392807007, equations: [1.11 - x0, -0.281*x1]\n",
      "Complexity: 8, fitness: 1.3372949361801147, equations: [-x0*x1 + 0.605, -0.309*x1]\n",
      "Complexity: 10, fitness: 1.2923414707183838, equations: [-1.97*x0, 0.786*x0 - 0.409*x1]\n",
      "Complexity: 12, fitness: 1.232863187789917, equations: [0.721 - 1.79*x0, 0.781*x0 - 0.473*x1]\n",
      "Complexity: 14, fitness: 1.2218873500823975, equations: [1.27 - 2.29*x0, x0 - 0.456*x1 - 0.306]\n",
      "Complexity: 18, fitness: 1.162458896636963, equations: [(0.256 - 0.326*x1)*(x0 + 0.304) + 0.34, 0.307*x0 - 0.336*x1]\n",
      "Complexity: 20, fitness: 1.0992820262908936, equations: [(0.521 - 0.465*x1)*(x0 + 0.225) + 0.299, 0.173*x0 - 0.252*x1 - 0.223]\n",
      "Complexity: 26, fitness: 1.075476884841919, equations: [(0.751 - 0.555*x1)*(2*x0 + 0.448) + 0.2, 0.0862*x0 - 0.296*x1]\n",
      "Generation: 15\n",
      "Complexity: 2, fitness: 2.8840174674987793, equations: [-0.611, -0.753]\n",
      "Complexity: 4, fitness: 2.0265915393829346, equations: [-0.999*x0, -0.731]\n",
      "Complexity: 6, fitness: 1.4009642601013184, equations: [-1.68*x0, -0.271*x1]\n",
      "Complexity: 8, fitness: 1.3372949361801147, equations: [-x0*x1 + 0.605, -0.309*x1]\n",
      "Complexity: 10, fitness: 1.2923414707183838, equations: [-1.97*x0, 0.786*x0 - 0.409*x1]\n",
      "Complexity: 12, fitness: 1.2322602272033691, equations: [0.96 - 2.23*x0, x0 - 0.501*x1]\n",
      "Complexity: 14, fitness: 1.2212568521499634, equations: [1.15 - 2.29*x0, x0 - 0.454*x1 - 0.279]\n",
      "Complexity: 16, fitness: 1.22124183177948, equations: [0.958 - 2.08*x0, 0.903*x0 - 0.455*x1 - 0.186]\n",
      "Complexity: 18, fitness: 1.162458896636963, equations: [(0.256 - 0.326*x1)*(x0 + 0.304) + 0.34, 0.307*x0 - 0.336*x1]\n",
      "Complexity: 20, fitness: 0.8633856773376465, equations: [(1.76 - 0.997*x1)*(x0 + 0.112) + 0.0376, 0.118*x0 - 0.187*x1 - 0.221]\n",
      "Generation: 20\n",
      "Complexity: 2, fitness: 2.8840174674987793, equations: [-0.611, -0.753]\n",
      "Complexity: 4, fitness: 2.0265915393829346, equations: [-0.999*x0, -0.731]\n",
      "Complexity: 6, fitness: 1.4009642601013184, equations: [-1.68*x0, -0.271*x1]\n",
      "Complexity: 8, fitness: 1.3372949361801147, equations: [-x0*x1 + 0.605, -0.309*x1]\n",
      "Complexity: 10, fitness: 1.2845573425292969, equations: [-0.412*x0*x1 + 0.561, -0.287*x1]\n",
      "Complexity: 12, fitness: 1.231080174446106, equations: [0.836 - 2.17*x0, x0 - 0.487*x1]\n",
      "Complexity: 14, fitness: 1.2212458848953247, equations: [1.11 - 2.28*x0, x0 - 0.452*x1 - 0.264]\n",
      "Complexity: 16, fitness: 1.0085283517837524, equations: [-0.392*x0*x1 + x0, x0 - 0.326*x1 - 0.322]\n",
      "Complexity: 20, fitness: 0.8167004585266113, equations: [(2.07 - 1.07*x1)*(x0 - 0.0932) + 0.0222, 0.103*x0 - 0.177*x1 - 0.209]\n",
      "Generation: 25\n",
      "Complexity: 2, fitness: 2.8840174674987793, equations: [-0.611, -0.753]\n",
      "Complexity: 4, fitness: 2.0265915393829346, equations: [-0.999*x0, -0.731]\n",
      "Complexity: 6, fitness: 1.4009642601013184, equations: [-1.68*x0, -0.271*x1]\n",
      "Complexity: 8, fitness: 1.3372949361801147, equations: [-x0*x1 + 0.605, -0.309*x1]\n",
      "Complexity: 10, fitness: 1.2822456359863281, equations: [-0.389*x0*x1 + 0.487, -0.289*x1]\n",
      "Complexity: 12, fitness: 1.231080174446106, equations: [0.836 - 2.17*x0, x0 - 0.487*x1]\n",
      "Complexity: 14, fitness: 1.2212458848953247, equations: [1.11 - 2.28*x0, x0 - 0.452*x1 - 0.264]\n",
      "Complexity: 16, fitness: 1.0084158182144165, equations: [-0.383*x0*x1 + x0, x0 - 0.326*x1 - 0.337]\n",
      "Complexity: 18, fitness: 0.8321530222892761, equations: [x0*(2.03 - 1.17*x1) + 0.0344, 0.104*x0 - 0.174*x1 - 0.225]\n",
      "Complexity: 20, fitness: 0.8159946799278259, equations: [(2.11 - 1.07*x1)*(x0 - 0.155) + 0.0151, 0.124*x0 - 0.178*x1 - 0.219]\n",
      "Complexity: 24, fitness: 0.6512040495872498, equations: [-0.352*x0*x1 + 0.904*x0 + 0.0166, 0.0883*x0*x1 - 0.411*x1]\n",
      "Generation: 30\n",
      "Complexity: 2, fitness: 2.8840174674987793, equations: [-0.611, -0.753]\n",
      "Complexity: 4, fitness: 2.0265915393829346, equations: [-0.999*x0, -0.731]\n",
      "Complexity: 6, fitness: 1.4009642601013184, equations: [-1.68*x0, -0.271*x1]\n",
      "Complexity: 8, fitness: 1.3372949361801147, equations: [-x0*x1 + 0.605, -0.309*x1]\n",
      "Complexity: 10, fitness: 1.2822456359863281, equations: [-0.389*x0*x1 + 0.487, -0.289*x1]\n",
      "Complexity: 12, fitness: 1.231080174446106, equations: [0.836 - 2.17*x0, x0 - 0.487*x1]\n",
      "Complexity: 14, fitness: 1.2212458848953247, equations: [1.11 - 2.28*x0, x0 - 0.452*x1 - 0.264]\n",
      "Complexity: 16, fitness: 1.0084158182144165, equations: [-0.383*x0*x1 + x0, x0 - 0.326*x1 - 0.337]\n",
      "Complexity: 18, fitness: 0.36740195751190186, equations: [-0.473*x0*x1 + x0, 0.142*x0*x1 - 0.526*x1]\n",
      "Generation: 35\n",
      "Complexity: 2, fitness: 2.8840174674987793, equations: [-0.611, -0.753]\n",
      "Complexity: 4, fitness: 2.0265915393829346, equations: [-0.999*x0, -0.731]\n",
      "Complexity: 6, fitness: 1.4009642601013184, equations: [-1.68*x0, -0.271*x1]\n",
      "Complexity: 8, fitness: 1.3372949361801147, equations: [-x0*x1 + 0.605, -0.309*x1]\n",
      "Complexity: 10, fitness: 1.2822456359863281, equations: [-0.389*x0*x1 + 0.487, -0.289*x1]\n",
      "Complexity: 12, fitness: 1.231080174446106, equations: [0.836 - 2.17*x0, x0 - 0.487*x1]\n",
      "Complexity: 14, fitness: 1.2212458848953247, equations: [1.11 - 2.28*x0, x0 - 0.452*x1 - 0.264]\n",
      "Complexity: 16, fitness: 1.0084158182144165, equations: [-0.383*x0*x1 + x0, x0 - 0.326*x1 - 0.337]\n",
      "Complexity: 18, fitness: 0.36740195751190186, equations: [-0.473*x0*x1 + x0, 0.142*x0*x1 - 0.526*x1]\n",
      "Generation: 40\n",
      "Complexity: 2, fitness: 2.8840174674987793, equations: [-0.611, -0.753]\n",
      "Complexity: 4, fitness: 2.0265915393829346, equations: [-0.999*x0, -0.731]\n",
      "Complexity: 6, fitness: 1.4009642601013184, equations: [-1.68*x0, -0.271*x1]\n",
      "Complexity: 8, fitness: 1.3372949361801147, equations: [-x0*x1 + 0.605, -0.309*x1]\n",
      "Complexity: 10, fitness: 1.2822456359863281, equations: [-0.389*x0*x1 + 0.487, -0.289*x1]\n",
      "Complexity: 12, fitness: 1.231080174446106, equations: [0.836 - 2.17*x0, x0 - 0.487*x1]\n",
      "Complexity: 14, fitness: 1.2212458848953247, equations: [1.11 - 2.28*x0, x0 - 0.452*x1 - 0.264]\n",
      "Complexity: 16, fitness: 1.0084158182144165, equations: [-0.383*x0*x1 + x0, x0 - 0.326*x1 - 0.337]\n",
      "Complexity: 18, fitness: 0.2190966159105301, equations: [-0.424*x0*x1 + x0, 0.113*x0*x1 - 0.466*x1]\n",
      "Generation: 45\n",
      "Complexity: 2, fitness: 2.8840174674987793, equations: [-0.611, -0.753]\n",
      "Complexity: 4, fitness: 2.0265915393829346, equations: [-0.999*x0, -0.731]\n",
      "Complexity: 6, fitness: 1.4009642601013184, equations: [-1.68*x0, -0.271*x1]\n",
      "Complexity: 8, fitness: 1.3372949361801147, equations: [-x0*x1 + 0.605, -0.309*x1]\n",
      "Complexity: 10, fitness: 1.2822456359863281, equations: [-0.389*x0*x1 + 0.487, -0.289*x1]\n",
      "Complexity: 12, fitness: 1.231080174446106, equations: [0.836 - 2.17*x0, x0 - 0.487*x1]\n",
      "Complexity: 14, fitness: 1.2212458848953247, equations: [1.11 - 2.28*x0, x0 - 0.452*x1 - 0.264]\n",
      "Complexity: 16, fitness: 1.0084158182144165, equations: [-0.383*x0*x1 + x0, x0 - 0.326*x1 - 0.337]\n",
      "Complexity: 18, fitness: 0.1652568280696869, equations: [-0.4*x0*x1 + x0, 0.112*x0*x1 - 0.454*x1]\n"
     ]
    }
   ],
   "source": [
    "# Sample the initial population\n",
    "population = strategy.initialize_population(gp_key)\n",
    "\n",
    "# Define the number of timepoints to include in the data\n",
    "end_ts = int(ts.shape[0]/2)\n",
    "\n",
    "for g in range(num_generations):\n",
    "    if g == 25: # After 25 generations, use the full data\n",
    "        end_ts = ts.shape[0]\n",
    "\n",
    "    key, eval_key, sample_key = jr.split(key, 3)\n",
    "    # Evaluate the population on the data, and return the fitness\n",
    "    fitness, population = strategy.evaluate_population(population, (x0s, ts[:end_ts], ys[:,:end_ts]), eval_key)\n",
    "\n",
    "    if (g%5)==0:\n",
    "        print(\"Generation:\", g)\n",
    "        strategy.print_pareto_front()\n",
    "\n",
    "    # Evolve the population until the last generation. The fitness should be given to the evolve function.\n",
    "    if g < (num_generations-1):\n",
    "        population = strategy.evolve_population(population, fitness, sample_key)"
   ]
  },
  {
   "cell_type": "markdown",
   "metadata": {},
   "source": [
    "Kozax provides a fit function that receives the data and a random key. However, it is also possible to run Kozax with an easy loop consisting of evaluating and evolving. This is useful as different input data can be provided during evaluation. In symbolic regression of dynamical systems, it helps to first optimize on a small part of the time points, and provide the full data trajectories only after a couple of generations."
   ]
  },
  {
   "cell_type": "code",
   "execution_count": 5,
   "metadata": {},
   "outputs": [
    {
     "name": "stdout",
     "output_type": "stream",
     "text": [
      "Complexity: 2, fitness: 2.8840174674987793, equations: [-0.611, -0.753]\n",
      "Complexity: 4, fitness: 2.0265915393829346, equations: [-0.999*x0, -0.731]\n",
      "Complexity: 6, fitness: 1.4009642601013184, equations: [-1.68*x0, -0.271*x1]\n",
      "Complexity: 8, fitness: 1.3372949361801147, equations: [-x0*x1 + 0.605, -0.309*x1]\n",
      "Complexity: 10, fitness: 1.2822456359863281, equations: [-0.389*x0*x1 + 0.487, -0.289*x1]\n",
      "Complexity: 12, fitness: 1.231080174446106, equations: [0.836 - 2.17*x0, x0 - 0.487*x1]\n",
      "Complexity: 14, fitness: 1.2212458848953247, equations: [1.11 - 2.28*x0, x0 - 0.452*x1 - 0.264]\n",
      "Complexity: 16, fitness: 1.0084158182144165, equations: [-0.383*x0*x1 + x0, x0 - 0.326*x1 - 0.337]\n",
      "Complexity: 18, fitness: 0.1432454138994217, equations: [-0.382*x0*x1 + x0, 0.0999*x0*x1 - 0.429*x1]\n"
     ]
    }
   ],
   "source": [
    "strategy.print_pareto_front()"
   ]
  },
  {
   "cell_type": "markdown",
   "metadata": {},
   "source": [
    "Instead of using evolution to optimize the constants, Kozax also offers gradient-based optimization. For gradient optimization, it is possible to specify the optimizer, the number of candidates to apply constant optimization to, the initial learning rate and the learning rate decay over generation. These two methods are provided as either can be more effective or efficient for different problems."
   ]
  },
  {
   "cell_type": "code",
   "execution_count": 6,
   "metadata": {},
   "outputs": [
    {
     "name": "stdout",
     "output_type": "stream",
     "text": [
      "Input data should be formatted as: ['x0', 'x1'].\n"
     ]
    }
   ],
   "source": [
    "import optax\n",
    "\n",
    "strategy = GeneticProgramming(num_generations, population_size, fitness_function, operator_list, variable_list, layer_sizes, num_populations = num_populations,\n",
    "                        constant_optimization_method=\"gradient\", constant_optimization_steps = 15, optimizer_class = optax.adam,\n",
    "                        optimize_constants_elite=100, constant_step_size_init=0.025, constant_step_size_decay=0.95)"
   ]
  },
  {
   "cell_type": "code",
   "execution_count": 8,
   "metadata": {},
   "outputs": [
    {
     "name": "stdout",
     "output_type": "stream",
     "text": [
      "Generation: 0\n",
      "Complexity: 2, fitness: 6.447543621063232, equations: [1.53, -0.844]\n",
      "Complexity: 6, fitness: 1.7973437309265137, equations: [-1.12*x0, -1.23*x1]\n",
      "Complexity: 8, fitness: 1.7219312191009521, equations: [-1.28*x0, -0.234*x0*x1]\n",
      "Complexity: 10, fitness: 1.6546754837036133, equations: [-x0 - 1.02, x0 - x1 + 1.54]\n",
      "Complexity: 12, fitness: 1.3882397413253784, equations: [1.41 - 2.33*x0, -0.226*x1 - 0.145]\n",
      "Complexity: 16, fitness: 1.376958966255188, equations: [-0.971*x0*(x0 - 1.42) - 0.491, 0.325 - 0.378*x1]\n",
      "Generation: 5\n",
      "Complexity: 2, fitness: 3.1813440322875977, equations: [-0.415, -0.330]\n",
      "Complexity: 4, fitness: 2.006434440612793, equations: [0.633 - x0, -0.706]\n",
      "Complexity: 6, fitness: 1.3983227014541626, equations: [-1.7*x0, -0.291*x1]\n",
      "Complexity: 8, fitness: 1.3975510597229004, equations: [-2.34*x0, -0.289*x1]\n",
      "Complexity: 10, fitness: 1.345879316329956, equations: [1.19 - 2.32*x0, -0.283*x1]\n",
      "Complexity: 12, fitness: 1.3137644529342651, equations: [-0.974*x0*x1 + 1.05, 1.85*x0 - 2.17]\n",
      "Complexity: 14, fitness: 1.255739688873291, equations: [-0.251*x1*(x0 + 1.38) + 0.873, 0.186 - 0.358*x1]\n",
      "Complexity: 16, fitness: 1.1850876808166504, equations: [-0.252*x1*(x0 + 0.584) + 0.586, 0.265*x0 - 0.35*x1]\n",
      "Complexity: 20, fitness: 1.1510984897613525, equations: [-0.266*x0*x1 + 0.458, 0.118*x0**2 - 0.371*x1]\n",
      "Generation: 10\n",
      "Complexity: 2, fitness: 2.959327459335327, equations: [-0.900, -0.826]\n",
      "Complexity: 4, fitness: 1.9705872535705566, equations: [-2.34*x0, -0.652]\n",
      "Complexity: 6, fitness: 1.3983227014541626, equations: [-1.7*x0, -0.291*x1]\n",
      "Complexity: 8, fitness: 1.3975510597229004, equations: [-2.34*x0, -0.289*x1]\n",
      "Complexity: 10, fitness: 1.345879316329956, equations: [1.19 - 2.32*x0, -0.283*x1]\n",
      "Complexity: 12, fitness: 1.2642574310302734, equations: [-0.308*x1*(x0 + 0.513) + 0.701, -0.283*x1]\n",
      "Complexity: 14, fitness: 1.2243378162384033, equations: [-0.341*x1*(x0 - 0.0933) + 0.291, 0.369*x0 - 0.369*x1]\n",
      "Complexity: 16, fitness: 1.1571927070617676, equations: [-0.273*x0*x1 + 0.396, 0.111*x0*x1 - 0.432*x1]\n",
      "Complexity: 18, fitness: 1.1378434896469116, equations: [-0.261*x1*(x0 + 0.333) + 0.545, 0.103*x0*x1 - 0.41*x1]\n",
      "Complexity: 20, fitness: 1.110783338546753, equations: [-0.2*x1*(x0 + 1.21) + 0.917, 0.107*x0**2 - 0.377*x1]\n",
      "Complexity: 22, fitness: 0.35645273327827454, equations: [-0.358*x0*x1 + 0.825*x0, 0.126*x0*x1 - 0.529*x1]\n",
      "Generation: 15\n",
      "Complexity: 2, fitness: 2.959327459335327, equations: [-0.900, -0.826]\n",
      "Complexity: 4, fitness: 1.9705872535705566, equations: [-2.34*x0, -0.652]\n",
      "Complexity: 6, fitness: 1.3983227014541626, equations: [-1.7*x0, -0.291*x1]\n",
      "Complexity: 8, fitness: 1.3768389225006104, equations: [-1.95*x0, 0.196 - 0.357*x1]\n",
      "Complexity: 10, fitness: 1.336345911026001, equations: [1.15 - 2.4*x0, 0.352 - 0.402*x1]\n",
      "Complexity: 12, fitness: 1.2642574310302734, equations: [-0.308*x1*(x0 + 0.513) + 0.701, -0.283*x1]\n",
      "Complexity: 14, fitness: 1.2243378162384033, equations: [-0.341*x1*(x0 - 0.0933) + 0.291, 0.369*x0 - 0.369*x1]\n",
      "Complexity: 16, fitness: 1.1571927070617676, equations: [-0.273*x0*x1 + 0.396, 0.111*x0*x1 - 0.432*x1]\n",
      "Complexity: 18, fitness: 1.1323356628417969, equations: [-0.26*x0*x1 + 0.295, 0.667*x0 - 0.328*x1 - 0.412]\n",
      "Complexity: 20, fitness: 1.110783338546753, equations: [-0.2*x1*(x0 + 1.21) + 0.917, 0.107*x0**2 - 0.377*x1]\n",
      "Complexity: 22, fitness: 0.23968824744224548, equations: [-0.386*x0*x1 + 0.921*x0, 0.118*x0*x1 - 0.493*x1]\n",
      "Complexity: 24, fitness: 0.2117650806903839, equations: [-0.368*x0*x1 + 0.925*x0, 0.103*x0*x1 - 0.454*x1]\n",
      "Generation: 20\n",
      "Complexity: 2, fitness: 2.959327459335327, equations: [-0.900, -0.826]\n",
      "Complexity: 4, fitness: 1.9705872535705566, equations: [-2.34*x0, -0.652]\n",
      "Complexity: 6, fitness: 1.3983227014541626, equations: [-1.7*x0, -0.291*x1]\n",
      "Complexity: 8, fitness: 1.355246901512146, equations: [0.602 - 2.14*x0, -0.292*x1]\n",
      "Complexity: 10, fitness: 1.3145442008972168, equations: [-1.78*x0, 0.514*x0 - 0.376*x1]\n",
      "Complexity: 12, fitness: 1.2642574310302734, equations: [-0.308*x1*(x0 + 0.513) + 0.701, -0.283*x1]\n",
      "Complexity: 14, fitness: 1.2095084190368652, equations: [-0.281*x0*x1 + 0.307, 0.38*x0 - 0.38*x1]\n",
      "Complexity: 16, fitness: 1.1571927070617676, equations: [-0.273*x0*x1 + 0.396, 0.111*x0*x1 - 0.432*x1]\n",
      "Complexity: 18, fitness: 0.9327729940414429, equations: [-0.328*x0*x1 + 0.163, 0.311*x0 - 1.38]\n",
      "Complexity: 20, fitness: 0.8815608024597168, equations: [(0.442 - 0.047*x1**2)*(x0 + 0.674) + 0.0396, 0.276*x0 - 0.276*x1 - 0.16]\n",
      "Complexity: 22, fitness: 0.14587584137916565, equations: [-0.384*x0*x1 + 0.988*x0, 0.104*x0*x1 - 0.435*x1]\n",
      "Generation: 25\n",
      "Complexity: 2, fitness: 2.959327459335327, equations: [-0.900, -0.826]\n",
      "Complexity: 4, fitness: 1.9705872535705566, equations: [-2.34*x0, -0.652]\n",
      "Complexity: 6, fitness: 1.3983227014541626, equations: [-1.7*x0, -0.291*x1]\n",
      "Complexity: 8, fitness: 1.355246901512146, equations: [0.602 - 2.14*x0, -0.292*x1]\n",
      "Complexity: 10, fitness: 1.3145442008972168, equations: [-1.78*x0, 0.514*x0 - 0.376*x1]\n",
      "Complexity: 12, fitness: 1.2642574310302734, equations: [-0.308*x1*(x0 + 0.513) + 0.701, -0.283*x1]\n",
      "Complexity: 14, fitness: 0.9705458283424377, equations: [x0*(0.718 - 0.334*x1), 0.358*x0 - 0.358*x1 - 0.272]\n",
      "Complexity: 18, fitness: 0.9327729940414429, equations: [-0.328*x0*x1 + 0.163, 0.311*x0 - 1.38]\n",
      "Complexity: 20, fitness: 0.06184430420398712, equations: [-0.392*x0*x1 + 1.06*x0, 0.103*x0*x1 - 0.412*x1]\n",
      "Generation: 30\n",
      "Complexity: 2, fitness: 2.959327459335327, equations: [-0.900, -0.826]\n",
      "Complexity: 4, fitness: 1.9705872535705566, equations: [-2.34*x0, -0.652]\n",
      "Complexity: 6, fitness: 1.3983227014541626, equations: [-1.7*x0, -0.291*x1]\n",
      "Complexity: 8, fitness: 1.355246901512146, equations: [0.602 - 2.14*x0, -0.292*x1]\n",
      "Complexity: 10, fitness: 1.3145442008972168, equations: [-1.78*x0, 0.514*x0 - 0.376*x1]\n",
      "Complexity: 12, fitness: 1.2642574310302734, equations: [-0.308*x1*(x0 + 0.513) + 0.701, -0.283*x1]\n",
      "Complexity: 14, fitness: 0.9705458283424377, equations: [x0*(0.718 - 0.334*x1), 0.358*x0 - 0.358*x1 - 0.272]\n",
      "Complexity: 18, fitness: 0.15888433158397675, equations: [-0.374*x0*x1 + x0, 0.0992*x0*x1 - 0.423*x1]\n",
      "Complexity: 20, fitness: 0.03263363987207413, equations: [-0.397*x0*x1 + 1.08*x0, 0.1*x0*x1 - 0.408*x1]\n",
      "Generation: 35\n",
      "Complexity: 2, fitness: 2.959327459335327, equations: [-0.900, -0.826]\n",
      "Complexity: 4, fitness: 1.9705872535705566, equations: [-2.34*x0, -0.652]\n",
      "Complexity: 6, fitness: 1.3983227014541626, equations: [-1.7*x0, -0.291*x1]\n",
      "Complexity: 8, fitness: 1.355246901512146, equations: [0.602 - 2.14*x0, -0.292*x1]\n",
      "Complexity: 10, fitness: 1.3145442008972168, equations: [-1.78*x0, 0.514*x0 - 0.376*x1]\n",
      "Complexity: 12, fitness: 1.2642574310302734, equations: [-0.308*x1*(x0 + 0.513) + 0.701, -0.283*x1]\n",
      "Complexity: 14, fitness: 0.9705458283424377, equations: [x0*(0.718 - 0.334*x1), 0.358*x0 - 0.358*x1 - 0.272]\n",
      "Complexity: 18, fitness: 0.15888433158397675, equations: [-0.374*x0*x1 + x0, 0.0992*x0*x1 - 0.423*x1]\n",
      "Complexity: 20, fitness: 0.03263363987207413, equations: [-0.397*x0*x1 + 1.08*x0, 0.1*x0*x1 - 0.408*x1]\n",
      "Generation: 40\n",
      "Complexity: 2, fitness: 2.959327459335327, equations: [-0.900, -0.826]\n",
      "Complexity: 4, fitness: 1.9705872535705566, equations: [-2.34*x0, -0.652]\n",
      "Complexity: 6, fitness: 1.3983227014541626, equations: [-1.7*x0, -0.291*x1]\n",
      "Complexity: 8, fitness: 1.355246901512146, equations: [0.602 - 2.14*x0, -0.292*x1]\n",
      "Complexity: 10, fitness: 1.3145442008972168, equations: [-1.78*x0, 0.514*x0 - 0.376*x1]\n",
      "Complexity: 12, fitness: 1.2642574310302734, equations: [-0.308*x1*(x0 + 0.513) + 0.701, -0.283*x1]\n",
      "Complexity: 14, fitness: 0.9705458283424377, equations: [x0*(0.718 - 0.334*x1), 0.358*x0 - 0.358*x1 - 0.272]\n",
      "Complexity: 18, fitness: 0.15888433158397675, equations: [-0.374*x0*x1 + x0, 0.0992*x0*x1 - 0.423*x1]\n",
      "Complexity: 20, fitness: 0.03263363987207413, equations: [-0.397*x0*x1 + 1.08*x0, 0.1*x0*x1 - 0.408*x1]\n",
      "Generation: 45\n",
      "Complexity: 2, fitness: 2.959327459335327, equations: [-0.900, -0.826]\n",
      "Complexity: 4, fitness: 1.9705872535705566, equations: [-2.34*x0, -0.652]\n",
      "Complexity: 6, fitness: 1.3983227014541626, equations: [-1.7*x0, -0.291*x1]\n",
      "Complexity: 8, fitness: 1.355246901512146, equations: [0.602 - 2.14*x0, -0.292*x1]\n",
      "Complexity: 10, fitness: 1.3145442008972168, equations: [-1.78*x0, 0.514*x0 - 0.376*x1]\n",
      "Complexity: 12, fitness: 1.2642574310302734, equations: [-0.308*x1*(x0 + 0.513) + 0.701, -0.283*x1]\n",
      "Complexity: 14, fitness: 0.9705458283424377, equations: [x0*(0.718 - 0.334*x1), 0.358*x0 - 0.358*x1 - 0.272]\n",
      "Complexity: 18, fitness: 0.15888433158397675, equations: [-0.374*x0*x1 + x0, 0.0992*x0*x1 - 0.423*x1]\n",
      "Complexity: 20, fitness: 0.03263363987207413, equations: [-0.397*x0*x1 + 1.08*x0, 0.1*x0*x1 - 0.408*x1]\n"
     ]
    }
   ],
   "source": [
    "key = jr.PRNGKey(0)\n",
    "data_key, gp_key = jr.split(key)\n",
    "\n",
    "T = 30\n",
    "dt = 0.2\n",
    "env = LotkaVolterra()\n",
    "\n",
    "# Simulate the data\n",
    "data = get_data(data_key, env, dt, T, batch_size=4)\n",
    "x0s, ts, ys = data\n",
    "\n",
    "# Sample the initial population\n",
    "population = strategy.initialize_population(gp_key)\n",
    "\n",
    "# Define the number of timepoints to include in the data\n",
    "end_ts = int(ts.shape[0]/2)\n",
    "\n",
    "for g in range(num_generations):\n",
    "    if g == 25: # After 25 generations, use the full data\n",
    "        end_ts = ts.shape[0]\n",
    "\n",
    "    key, eval_key, sample_key = jr.split(key, 3)\n",
    "    # Evaluate the population on the data, and return the fitness\n",
    "    fitness, population = strategy.evaluate_population(population, (x0s, ts[:end_ts], ys[:,:end_ts]), eval_key)\n",
    "\n",
    "    if (g%5)==0:\n",
    "        print(\"Generation:\", g)\n",
    "        strategy.print_pareto_front()\n",
    "\n",
    "    # Evolve the population until the last generation. The fitness should be given to the evolve function.\n",
    "    if g < (num_generations-1):\n",
    "        population = strategy.evolve_population(population, fitness, sample_key)"
   ]
  },
  {
   "cell_type": "code",
   "execution_count": null,
   "metadata": {},
   "outputs": [
    {
     "name": "stdout",
     "output_type": "stream",
     "text": [
      "Complexity: 2, fitness: 2.889601707458496, equations: [-0.789, -0.746]\n",
      "Complexity: 4, fitness: 2.231682300567627, equations: [1.05 - x0, -0.336]\n",
      "Complexity: 6, fitness: 1.392594814300537, equations: [-1.95*x0, -0.291*x1]\n",
      "Complexity: 8, fitness: 1.3738036155700684, equations: [-1.62*x0, x0 - 0.407*x1]\n",
      "Complexity: 10, fitness: 1.3001673221588135, equations: [-0.276*x0*x1, x0 - 0.386*x1]\n",
      "Complexity: 12, fitness: 1.226672649383545, equations: [-0.274*x0*x1 + 0.218, x0 - 0.407*x1]\n",
      "Complexity: 14, fitness: 0.916778028011322, equations: [x0*(1.33 - 0.49*x1), 0.311*x0 - 0.327*x1]\n",
      "Complexity: 16, fitness: 0.04582058638334274, equations: [2*x0*(0.537 - 0.202*x1), x1*(0.103*x0 - 0.415)]\n",
      "Complexity: 18, fitness: 0.04011291265487671, equations: [1.86*x0*(0.574 - 0.215*x1), x1*(0.103*x0 - 0.415)]\n"
     ]
    }
   ],
   "source": [
    "strategy.print_pareto_front()"
   ]
  }
 ],
 "metadata": {
  "kernelspec": {
   "display_name": "test_kozax",
   "language": "python",
   "name": "python3"
  },
  "language_info": {
   "codemirror_mode": {
    "name": "ipython",
    "version": 3
   },
   "file_extension": ".py",
   "mimetype": "text/x-python",
   "name": "python",
   "nbconvert_exporter": "python",
   "pygments_lexer": "ipython3",
   "version": "3.12.2"
  },
  "orig_nbformat": 4
 },
 "nbformat": 4,
 "nbformat_minor": 2
}
