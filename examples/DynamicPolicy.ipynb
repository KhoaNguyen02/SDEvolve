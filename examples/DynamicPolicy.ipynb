{
 "cells": [
  {
   "cell_type": "code",
   "execution_count": null,
   "metadata": {},
   "outputs": [],
   "source": [
    "import jax\n",
    "import jax.numpy as jnp\n",
    "import jax.random as jrandom\n",
    "import matplotlib.pyplot as plt\n",
    "\n",
    "from MultiTreeGP.expression import Expression\n",
    "import MultiTreeGP.evaluators.dynamic_evaluate as dynamic_evaluate\n",
    "import MultiTreeGP.evaluators.feedforward_evaluate as ff_evaluate\n",
    "from MultiTreeGP.algorithms.genetic_programming import GeneticProgramming\n",
    "from MultiTreeGP.environments.control_environments.acrobot import Acrobot\n",
    "\n",
    "key = jrandom.PRNGKey(1)"
   ]
  },
  {
   "attachments": {},
   "cell_type": "markdown",
   "metadata": {},
   "source": [
    "# Generate data"
   ]
  },
  {
   "cell_type": "code",
   "execution_count": null,
   "metadata": {},
   "outputs": [],
   "source": [
    "def get_data(key, env, batch_size, dt, T, param_setting):\n",
    "    init_key, noise_key1, noise_key2, param_key = jrandom.split(key, 4)\n",
    "    x0, targets = env.sample_init_states(batch_size, init_key)\n",
    "    process_noise_keys = jrandom.split(noise_key1, batch_size)\n",
    "    obs_noise_keys = jrandom.split(noise_key2, batch_size)\n",
    "    ts = jnp.arange(0, T, dt)\n",
    "\n",
    "    params = env.sample_params(batch_size, param_setting, ts, param_key)\n",
    "    return x0, ts, targets, process_noise_keys, obs_noise_keys, params\n",
    "\n",
    "init_key, data_key = jrandom.split(key)\n",
    "batch_size = 32\n",
    "T = 50\n",
    "dt = 0.2\n",
    "process_noise = 0.05\n",
    "obs_noise = 0.1\n",
    "param_setting = \"Constant\"\n",
    "\n",
    "env = Acrobot(process_noise, obs_noise)\n",
    "\n",
    "data = get_data(data_key, env, batch_size, dt, T, param_setting)"
   ]
  },
  {
   "attachments": {},
   "cell_type": "markdown",
   "metadata": {},
   "source": [
    "# Dynamic Symbolic Policy Learning"
   ]
  },
  {
   "cell_type": "code",
   "execution_count": null,
   "metadata": {},
   "outputs": [],
   "source": [
    "#Define hyperparameters\n",
    "population_size = 50\n",
    "num_populations = 3\n",
    "pool_size = 8\n",
    "num_generations = 10\n",
    "state_size = 2\n",
    "\n",
    "#Define expressions\n",
    "operators = [\"+\", \"-\", \"*\", \"/\", \"power\", \"sin\", \"cos\"]\n",
    "operator_probs = jnp.array([0.5, 0.3, 0.5, 0.1, 0.1, 0.1, 0.1])\n",
    "expressions = [Expression([[\"y\",env.n_obs],[\"tar\",env.n_targets],[\"a\",state_size],[\"u\",env.n_control]], operators, operator_probs), \n",
    "                    Expression([[\"a\",state_size],[\"tar\",env.n_targets]], operators, operator_probs,\n",
    "                                condition=lambda tree: sum([\"a\" in str(leaf) for leaf in jax.tree_util.tree_leaves(tree)])>0)]\n",
    "layer_sizes = jnp.array([state_size, env.n_control])\n",
    "\n",
    "#Define evaluator\n",
    "fitness_function = dynamic_evaluate.Evaluator(env, state_size, dt0 = 0.002)"
   ]
  },
  {
   "cell_type": "code",
   "execution_count": null,
   "metadata": {},
   "outputs": [],
   "source": [
    "#Initialize strategy\n",
    "strategy = GeneticProgramming(num_generations, population_size, fitness_function, expressions, layer_sizes, \n",
    "                        num_populations = num_populations, pool_size = pool_size, leaf_sd=3)\n",
    "\n",
    "#Initialize population\n",
    "population = strategy.initialize_population(init_key)\n",
    "\n",
    "for g in range(num_generations):\n",
    "    fitnesses, population = strategy.evaluate_population(population, data)\n",
    "    \n",
    "    best_fitness, best_solution = strategy.get_statistics(g)\n",
    "    \n",
    "    print(f\"In generation {g+1}, best fitness = {best_fitness:.4f}, best solution = {best_solution}\")\n",
    "\n",
    "    if g < (num_generations-1):\n",
    "        key, sample_key = jrandom.split(key)\n",
    "        population = strategy.evolve_population(population, sample_key)\n",
    "\n",
    "best_fitnesses, best_solutions = strategy.get_statistics()"
   ]
  },
  {
   "attachments": {},
   "cell_type": "markdown",
   "metadata": {},
   "source": [
    "# Visualize best solution"
   ]
  },
  {
   "cell_type": "code",
   "execution_count": null,
   "metadata": {},
   "outputs": [],
   "source": [
    "#Generate test_data\n",
    "data = get_data(jrandom.PRNGKey(42), env, 4, dt, T, param_setting)\n",
    "x0s, ts, targets, _, _, params = data\n",
    "\n",
    "xs, ys, us, activities, fitness = fitness_function.evaluate_model(best_solutions[-1].tree_to_function(expressions), data)\n",
    "\n",
    "figure, ax = plt.subplots(2, 2, sharex=True, sharey=True)\n",
    "ax = ax.ravel()\n",
    "\n",
    "for i in range(4):\n",
    "    ax[i].plot(ts, -jnp.cos(xs[i,:,0]), color = f\"C{0}\", label=\"first link\")\n",
    "    ax[i].plot(ts, -jnp.cos(xs[i,:,0]) - jnp.cos(xs[i,:,0] + xs[i,:,1]), color = f\"C{1}\", label=\"second link\")\n",
    "    ax[i].hlines(1.5, ts[0], ts[-1], linestyles='dashed', color = \"black\")\n",
    "\n",
    "ax[-1].legend(loc=\"best\")\n",
    "ax[-2].legend(loc=\"best\")\n",
    "plt.tight_layout()\n",
    "plt.show()"
   ]
  }
 ],
 "metadata": {
  "kernelspec": {
   "display_name": "Python 3",
   "language": "python",
   "name": "python3"
  },
  "language_info": {
   "codemirror_mode": {
    "name": "ipython",
    "version": 3
   },
   "file_extension": ".py",
   "mimetype": "text/x-python",
   "name": "python",
   "nbconvert_exporter": "python",
   "pygments_lexer": "ipython3",
   "version": "3.11.4"
  },
  "orig_nbformat": 4
 },
 "nbformat": 4,
 "nbformat_minor": 2
}
