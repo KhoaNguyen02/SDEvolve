{
 "cells": [
  {
   "cell_type": "code",
   "execution_count": null,
   "metadata": {},
   "outputs": [],
   "source": [
    "import jax\n",
    "import diffrax\n",
    "import jax.numpy as jnp\n",
    "import jax.random as jrandom\n",
    "import matplotlib.pyplot as plt\n",
    "\n",
    "from MultiTreeGP.expression import Expression\n",
    "import MultiTreeGP.evaluators.SR_evaluator as evaluator\n",
    "from MultiTreeGP.environments.SR_environments.vd_pol_oscillator import VanDerPolOscillator\n",
    "from MultiTreeGP.algorithms.genetic_programming import GeneticProgramming\n",
    "\n",
    "key = jrandom.PRNGKey(0)"
   ]
  },
  {
   "attachments": {},
   "cell_type": "markdown",
   "metadata": {},
   "source": [
    "# Generate data"
   ]
  },
  {
   "cell_type": "code",
   "execution_count": null,
   "metadata": {},
   "outputs": [],
   "source": [
    "def get_data(key, env, T, batch_size=20):\n",
    "    init_key, noise_key1, noise_key2 = jrandom.split(key, 3)\n",
    "    x0s = env.sample_init_states(batch_size, init_key)\n",
    "    process_noise_keys = jrandom.split(noise_key1, batch_size)\n",
    "    obs_noise_keys = jrandom.split(noise_key2, batch_size)\n",
    "    ts = jnp.arange(0, T, 0.1)\n",
    "\n",
    "    def solve(env, ts, x0, process_noise_key, obs_noise_key):\n",
    "        solver = diffrax.EulerHeun()\n",
    "        dt0 = 0.001\n",
    "        saveat = diffrax.SaveAt(ts=ts)\n",
    "\n",
    "        brownian_motion = diffrax.UnsafeBrownianPath(shape=(env.n_var,), key=process_noise_key, levy_area=diffrax.BrownianIncrement)\n",
    "        system = diffrax.MultiTerm(diffrax.ODETerm(env.drift), diffrax.ControlTerm(env.diffusion, brownian_motion))\n",
    "\n",
    "        sol = diffrax.diffeqsolve(system, solver, ts[0], ts[-1], dt0, x0, saveat=saveat, max_steps=16**5, adjoint=diffrax.DirectAdjoint())\n",
    "        xs = sol.ys\n",
    "        _, ys = jax.lax.scan(env.f_obs, obs_noise_key, (ts, xs))\n",
    "\n",
    "        return xs, ys\n",
    "\n",
    "    xs, ys = jax.vmap(solve, in_axes=[None, None, 0, 0, 0])(env, ts, x0s, process_noise_keys, obs_noise_keys)\n",
    "    \n",
    "    return x0s, ts, xs, ys\n",
    "\n",
    "\n",
    "\n",
    "init_key, data_key = jrandom.split(key)\n",
    "\n",
    "env = VanDerPolOscillator(0, 0)\n",
    "\n",
    "T = 40\n",
    "x0s, ts, xs, ys = get_data(data_key, env, T=T, batch_size=10)"
   ]
  },
  {
   "attachments": {},
   "cell_type": "markdown",
   "metadata": {},
   "source": [
    "## Visualize trajectories"
   ]
  },
  {
   "cell_type": "code",
   "execution_count": null,
   "metadata": {},
   "outputs": [],
   "source": [
    "fig, ax = plt.subplots(2,2)\n",
    "ax = ax.ravel()\n",
    "for i in range(4):\n",
    "    for j in range(env.n_var):\n",
    "        ax[i].plot(ts, xs[i,:,j],color=f\"C{j}\", label=f\"$x_{j}$\")\n",
    "plt.legend()\n",
    "plt.show()"
   ]
  },
  {
   "attachments": {},
   "cell_type": "markdown",
   "metadata": {},
   "source": [
    "# Symbolic Regression"
   ]
  },
  {
   "cell_type": "code",
   "execution_count": null,
   "metadata": {},
   "outputs": [],
   "source": [
    "#Define hyperparameters\n",
    "population_size = 50\n",
    "num_populations = 3\n",
    "pool_size = 8\n",
    "num_generations = 10\n",
    "\n",
    "#Define expressions\n",
    "operators = [\"+\", \"-\", \"*\", \"/\", \"square\", \"power\"]\n",
    "operator_probs = jnp.array([0.5, 0.1, 0.5, 0., 0.1, 0])\n",
    "expressions = [Expression([[\"x\",env.n_var]], operators, operator_probs, condition=lambda tree: sum([\"x\" in str(leaf) for leaf in jax.tree_util.tree_leaves(tree)])>0)]\n",
    "layer_sizes = jnp.array([2])\n",
    "\n",
    "#Define evaluator\n",
    "fitness_function = evaluator.Evaluator(dt0 = 0.001)"
   ]
  },
  {
   "cell_type": "code",
   "execution_count": null,
   "metadata": {},
   "outputs": [],
   "source": [
    "#Initialize strategy\n",
    "strategy = GeneticProgramming(num_generations, population_size, fitness_function, expressions, layer_sizes, num_populations = num_populations, pool_size = pool_size, \n",
    "                              init_method=\"ramped\", tournament_size=4, max_init_depth=4, max_depth=8, size_parsinomy=0.0, leaf_sd=1, migration_period=5, gradient_optimisation=True, gradient_steps=5)\n",
    "\n",
    "#Initialize population\n",
    "population = strategy.initialize_population(init_key)\n",
    "\n",
    "for g in range(num_generations):\n",
    "    fitnesses, population = strategy.evaluate_population(population, (x0s, ts, ys))\n",
    "    \n",
    "    best_fitness, best_solution = strategy.get_statistics(g)\n",
    "    \n",
    "    print(f\"In generation {g+1}, best fitness = {best_fitness:.4f}, best solution = {best_solution}\")\n",
    "\n",
    "    if g < (num_generations-1):\n",
    "        key, sample_key = jrandom.split(key)\n",
    "        population = strategy.evolve_population(population, sample_key)\n",
    "\n",
    "best_fitnesses, best_solutions = strategy.get_statistics()"
   ]
  },
  {
   "attachments": {},
   "cell_type": "markdown",
   "metadata": {},
   "source": [
    "# Visualize best solution"
   ]
  },
  {
   "cell_type": "code",
   "execution_count": null,
   "metadata": {},
   "outputs": [],
   "source": [
    "#Generate test data\n",
    "x0s, ts, xs, ys = get_data(jrandom.PRNGKey(42), env, T=T, batch_size=4)\n",
    "\n",
    "#Evaluate best model on test data\n",
    "pred, fitness = fitness_function.evaluate_model(best_solutions[-1].tree_to_function(expressions), (x0s, ts, ys))\n",
    "\n",
    "fig, ax = plt.subplots(2,2)\n",
    "ax = ax.ravel()\n",
    "for i in range(4):\n",
    "    for j in range(env.n_var):\n",
    "        ax[i].plot(ts, xs[i,:,j],color=f\"C{j}\", label=f\"$x_{j}$\")\n",
    "        ax[i].plot(ts, pred[i,:,j],color=f\"C{9-j}\", label=f\"$y_{j}$\")\n",
    "plt.legend()\n",
    "plt.show()"
   ]
  }
 ],
 "metadata": {
  "kernelspec": {
   "display_name": "Python 3",
   "language": "python",
   "name": "python3"
  },
  "language_info": {
   "codemirror_mode": {
    "name": "ipython",
    "version": 3
   },
   "file_extension": ".py",
   "mimetype": "text/x-python",
   "name": "python",
   "nbconvert_exporter": "python",
   "pygments_lexer": "ipython3",
   "version": "3.11.4"
  },
  "orig_nbformat": 4
 },
 "nbformat": 4,
 "nbformat_minor": 2
}
